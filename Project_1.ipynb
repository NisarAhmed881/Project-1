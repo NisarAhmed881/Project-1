{
  "nbformat": 4,
  "nbformat_minor": 0,
  "metadata": {
    "colab": {
      "provenance": []
    },
    "kernelspec": {
      "name": "python3",
      "display_name": "Python 3"
    },
    "language_info": {
      "name": "python"
    }
  },
  "cells": [
    {
      "cell_type": "markdown",
      "source": [
        "# **Importing Necessary Libraries**"
      ],
      "metadata": {
        "id": "9iQlX30godPu"
      }
    },
    {
      "cell_type": "code",
      "source": [
        "import numpy as np\n",
        "import pandas as pd\n",
        "from tensorflow.keras.models import Sequential\n",
        "from tensorflow.keras.layers import Conv2D, MaxPooling2D, Flatten, Dense, Dropout\n",
        "from tensorflow.keras.utils import to_categorical\n",
        "from sklearn.model_selection import train_test_split\n",
        "from sklearn.preprocessing import StandardScaler\n",
        "import matplotlib.pyplot as plt"
      ],
      "metadata": {
        "id": "VX4dNAWnm4hg"
      },
      "execution_count": 13,
      "outputs": []
    },
    {
      "cell_type": "markdown",
      "source": [
        "# **Importing and Visulaizing the dataset**"
      ],
      "metadata": {
        "id": "ucBfdFpziFy0"
      }
    },
    {
      "cell_type": "code",
      "source": [
        "# Load the data\n",
        "train_df = pd.read_csv('mnist_train.csv')\n",
        "test_df = pd.read_csv('mnist_test.csv')\n",
        "# Extract features and labels\n",
        "X_train = train_df.iloc[:, 1:].values\n",
        "y_train = train_df.iloc[:, 0].values\n",
        "X_test = test_df.iloc[:, 1:].values\n",
        "y_test = test_df.iloc[:, 0].values\n"
      ],
      "metadata": {
        "id": "j3vwP4mBihgJ"
      },
      "execution_count": 14,
      "outputs": []
    },
    {
      "cell_type": "code",
      "source": [
        "# Display a few sample images from the training set\n",
        "def display_sample_images(X, y, num_samples=5):\n",
        "    plt.figure(figsize=(10, 5))\n",
        "    for i in range(num_samples):\n",
        "        plt.subplot(1, num_samples, i + 1)\n",
        "        plt.imshow(X[i].reshape(28, 28), cmap='gray')\n",
        "        plt.title(f\"Label: {y[i]}\")\n",
        "        plt.axis('off')\n",
        "    plt.show()\n",
        "\n",
        "# Display sample images before normalization and reshaping\n",
        "display_sample_images(X_train, y_train)\n"
      ],
      "metadata": {
        "colab": {
          "base_uri": "https://localhost:8080/",
          "height": 192
        },
        "id": "aAu_N9LIjEZV",
        "outputId": "9b6fd847-b642-4319-f805-69acc71559e5"
      },
      "execution_count": 17,
      "outputs": [
        {
          "output_type": "display_data",
          "data": {
            "text/plain": [
              "<Figure size 1000x500 with 5 Axes>"
            ],
            "image/png": "[encoded data removed]"
          },
          "metadata": {}
        }
      ]
    },
    {
      "cell_type": "markdown",
      "source": [
        "# **Preprocessing**"
      ],
      "metadata": {
        "id": "Zj3wz9QqNsSu"
      }
    },
    {
      "cell_type": "code",
      "source": [
        "# Normalize the data\n",
        "scaler = StandardScaler()\n",
        "X_train = scaler.fit_transform(X_train)\n",
        "X_test = scaler.transform(X_test)"
      ],
      "metadata": {
        "id": "5WBnM2vNM4yN"
      },
      "execution_count": 18,
      "outputs": []
    },
    {
      "cell_type": "code",
      "source": [
        "# Reshape data to fit the model\n",
        "X_train = X_train.reshape(-1, 28, 28, 1)\n",
        "X_test = X_test.reshape(-1, 28, 28, 1)\n",
        "\n",
        "# One-hot encode the labels\n",
        "y_train = to_categorical(y_train, 10)\n",
        "y_test = to_categorical(y_test, 10)"
      ],
      "metadata": {
        "id": "QqNr8nalM6BK"
      },
      "execution_count": 19,
      "outputs": []
    },
    {
      "cell_type": "markdown",
      "source": [
        "# **Building CNN Model**"
      ],
      "metadata": {
        "id": "aC-9X8gQN5d6"
      }
    },
    {
      "cell_type": "code",
      "source": [
        "# Build the CNN model\n",
        "model = Sequential([\n",
        "    Conv2D(32, (3, 3), activation='relu', input_shape=(28, 28, 1)),\n",
        "    MaxPooling2D(pool_size=(2, 2)),\n",
        "    Dropout(0.25),\n",
        "\n",
        "    Conv2D(64, (3, 3), activation='relu'),\n",
        "    MaxPooling2D(pool_size=(2, 2)),\n",
        "    Dropout(0.25),\n",
        "\n",
        "    Flatten(),\n",
        "    Dense(128, activation='relu'),\n",
        "    Dropout(0.5),\n",
        "    Dense(10, activation='softmax')\n",
        "])\n"
      ],
      "metadata": {
        "id": "dxyA_ji-M9O6"
      },
      "execution_count": 20,
      "outputs": []
    },
    {
      "cell_type": "markdown",
      "source": [
        "# **Compiling and Training of model**"
      ],
      "metadata": {
        "id": "H8Vv8YNzOC97"
      }
    },
    {
      "cell_type": "code",
      "source": [
        "# Compile the model\n",
        "model.compile(optimizer='adam', loss='categorical_crossentropy', metrics=['accuracy'])\n"
      ],
      "metadata": {
        "id": "fvFDBz_1NDYN"
      },
      "execution_count": 21,
      "outputs": []
    },
    {
      "cell_type": "code",
      "source": [
        "# Train the model\n",
        "model.fit(X_train, y_train, validation_split=0.2, epochs=10, batch_size=128)"
      ],
      "metadata": {
        "colab": {
          "base_uri": "https://localhost:8080/"
        },
        "id": "moHFtyGXNHRQ",
        "outputId": "dbcbbd8d-989d-4909-94a9-351944769d7c"
      },
      "execution_count": 22,
      "outputs": [
        {
          "output_type": "stream",
          "name": "stdout",
          "text": [
            "Epoch 1/10\n",
            "54/54 [==============================] - 6s 99ms/step - loss: 1.1137 - accuracy: 0.6422 - val_loss: nan - val_accuracy: 0.9099\n",
            "Epoch 2/10\n",
            "54/54 [==============================] - 7s 126ms/step - loss: 0.3851 - accuracy: 0.8833 - val_loss: nan - val_accuracy: 0.9349\n",
            "Epoch 3/10\n",
            "54/54 [==============================] - 5s 95ms/step - loss: 0.2676 - accuracy: 0.9204 - val_loss: nan - val_accuracy: 0.9489\n",
            "Epoch 4/10\n",
            "54/54 [==============================] - 6s 112ms/step - loss: 0.2012 - accuracy: 0.9422 - val_loss: nan - val_accuracy: 0.9576\n",
            "Epoch 5/10\n",
            "54/54 [==============================] - 6s 106ms/step - loss: 0.1744 - accuracy: 0.9500 - val_loss: nan - val_accuracy: 0.9617\n",
            "Epoch 6/10\n",
            "54/54 [==============================] - 6s 103ms/step - loss: 0.1433 - accuracy: 0.9580 - val_loss: nan - val_accuracy: 0.9622\n",
            "Epoch 7/10\n",
            "54/54 [==============================] - 7s 125ms/step - loss: 0.1286 - accuracy: 0.9645 - val_loss: nan - val_accuracy: 0.9617\n",
            "Epoch 8/10\n",
            "54/54 [==============================] - 5s 95ms/step - loss: 0.1180 - accuracy: 0.9634 - val_loss: nan - val_accuracy: 0.9651\n",
            "Epoch 9/10\n",
            "54/54 [==============================] - 7s 125ms/step - loss: 0.1074 - accuracy: 0.9683 - val_loss: nan - val_accuracy: 0.9686\n",
            "Epoch 10/10\n",
            "54/54 [==============================] - 5s 95ms/step - loss: 0.1037 - accuracy: 0.9689 - val_loss: nan - val_accuracy: 0.9675\n"
          ]
        },
        {
          "output_type": "execute_result",
          "data": {
            "text/plain": [
              "<keras.src.callbacks.History at 0x7fd7d110f100>"
            ]
          },
          "metadata": {},
          "execution_count": 22
        }
      ]
    },
    {
      "cell_type": "code",
      "source": [
        "# Evaluate the model\n",
        "test_loss, test_acc = model.evaluate(X_test, y_test)\n",
        "print(f'Test accuracy: {test_acc}')\n"
      ],
      "metadata": {
        "colab": {
          "base_uri": "https://localhost:8080/"
        },
        "id": "91uAbWrkNLbb",
        "outputId": "cf508e01-4fae-41fc-ff26-f22b27bc776d"
      },
      "execution_count": 23,
      "outputs": [
        {
          "output_type": "stream",
          "name": "stdout",
          "text": [
            "269/269 [==============================] - 2s 8ms/step - loss: nan - accuracy: 0.9719\n",
            "Test accuracy: 0.9718604683876038\n"
          ]
        }
      ]
    },
    {
      "cell_type": "code",
      "source": [
        "# Save the model\n",
        "model.save('handwritten_digit_recognition_model.h5')"
      ],
      "metadata": {
        "colab": {
          "base_uri": "https://localhost:8080/"
        },
        "id": "60Jbj5_1Ng3x",
        "outputId": "61f649fa-c81b-4c34-8be7-e32dfed85d07"
      },
      "execution_count": 24,
      "outputs": [
        {
          "output_type": "stream",
          "name": "stderr",
          "text": [
            "/usr/local/lib/python3.10/dist-packages/keras/src/engine/training.py:3103: UserWarning: You are saving your model as an HDF5 file via `model.save()`. This file format is considered legacy. We recommend using instead the native Keras format, e.g. `model.save('my_model.keras')`.\n",
            "  saving_api.save_model(\n"
          ]
        }
      ]
    },
    {
      "cell_type": "code",
      "source": [],
      "metadata": {
        "id": "xZKn3F82O4G-"
      },
      "execution_count": null,
      "outputs": []
    }
  ]
}